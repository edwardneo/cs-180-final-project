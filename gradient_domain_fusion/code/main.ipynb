{
 "cells": [
  {
   "cell_type": "code",
   "execution_count": 1,
   "id": "c83f3650-3de7-4187-af6a-cd6cef0ec3d0",
   "metadata": {},
   "outputs": [],
   "source": [
    "import numpy as np\n",
    "import matplotlib as mpl\n",
    "import matplotlib.pyplot as plt\n",
    "import skimage as sk\n",
    "import skimage.io as skio\n",
    "\n",
    "from gradient_starter.get_mask import get_mask\n",
    "from gradient_starter.align_source import align_source"
   ]
  },
  {
   "cell_type": "code",
   "execution_count": 3,
   "id": "94c9522d-093a-43ba-9343-6fd807b30007",
   "metadata": {},
   "outputs": [],
   "source": [
    "def notebook_ginput_wrapper(fn):\n",
    "    def new_fn(*args, **kwargs):\n",
    "        %matplotlib qt5\n",
    "        output = fn(*args, **kwargs)\n",
    "        %matplotlib inline\n",
    "        return output\n",
    "    return new_fn"
   ]
  },
  {
   "cell_type": "code",
   "execution_count": 4,
   "id": "5c09c68d-a970-48f2-ade5-40ed2930ecba",
   "metadata": {},
   "outputs": [],
   "source": [
    "get_mask = notebook_ginput_wrapper(get_mask)"
   ]
  },
  {
   "cell_type": "code",
   "execution_count": 5,
   "id": "1d87d22b-6786-478d-a8b6-12a282899268",
   "metadata": {},
   "outputs": [],
   "source": [
    "source_im = skio.imread('../original_images/penguin.jpg') / 255\n",
    "target_im = skio.imread('../original_images/im3.jpg') / 255"
   ]
  },
  {
   "cell_type": "code",
   "execution_count": 6,
   "id": "e983bfc7-dc53-40ec-b5ca-0083ded1fbae",
   "metadata": {},
   "outputs": [],
   "source": [
    "f, (ax1, ax2) = plt.subplots(1, 2)\n",
    "ax1.imshow(source_im)\n",
    "ax1.axis('off')\n",
    "\n",
    "ax2.imshow(target_im)\n",
    "ax2.axis('off')\n",
    "\n",
    "plt.show()"
   ]
  },
  {
   "cell_type": "code",
   "execution_count": 7,
   "id": "d5e0745a-3210-41e3-9730-e5f4dec4395f",
   "metadata": {},
   "outputs": [],
   "source": [
    "import numpy as np\n",
    "import matplotlib as mpl\n",
    "import matplotlib.pyplot as plt\n",
    "from skimage.draw import polygon\n",
    "from skimage.measure import find_contours\n",
    "\n",
    "def get_mask(im):\n",
    "    print('Draw polygon around source object in clockwise order, any key to stop')\n",
    "    plt.imshow(im)\n",
    "    plt.axis('image')\n",
    "\n",
    "    sx = []\n",
    "    sy = []\n",
    "\n",
    "    while True:\n",
    "        point = plt.ginput(1, timeout=0)\n",
    "        print(point)\n",
    "        if not point:\n",
    "            break\n",
    "        x, y = point[0]\n",
    "        sx.append(x)\n",
    "        sy.append(y)\n",
    "        plt.plot(sx, sy, '*-')\n",
    "        plt.draw()\n",
    "    \n",
    "    print('h')\n",
    "\n",
    "    mask = np.array(polygon(np.array(sy), np.array(sx), shape=im.shape[:2]))\n",
    "\n",
    "    print('f')\n",
    "    poly = None\n",
    "    # if len(sx) > 0 and len(sy) > 0:\n",
    "    #     contours = find_contours(mask, 0.5, positive_orientation='low')\n",
    "    #     poly = {'x': contours[0][:, 1], 'y': contours[0][:, 0]}\n",
    "\n",
    "    return mask, poly\n",
    "\n",
    "get_mask = notebook_ginput_wrapper(get_mask)"
   ]
  },
  {
   "cell_type": "code",
   "execution_count": 8,
   "id": "4d0f0c67-610b-4846-ba82-6ec39a961ad1",
   "metadata": {},
   "outputs": [
    {
     "ename": "RuntimeError",
     "evalue": "Cannot activate multiple GUI eventloops",
     "output_type": "error",
     "traceback": [
      "\u001b[0;31m---------------------------------------------------------------------------\u001b[0m",
      "\u001b[0;31mRuntimeError\u001b[0m                              Traceback (most recent call last)",
      "Cell \u001b[0;32mIn[8], line 1\u001b[0m\n\u001b[0;32m----> 1\u001b[0m \u001b[43mget_mask\u001b[49m\u001b[43m(\u001b[49m\u001b[43msource_im\u001b[49m\u001b[43m)\u001b[49m\n",
      "Cell \u001b[0;32mIn[3], line 3\u001b[0m, in \u001b[0;36mnotebook_ginput_wrapper.<locals>.new_fn\u001b[0;34m(*args, **kwargs)\u001b[0m\n\u001b[1;32m      2\u001b[0m \u001b[38;5;28;01mdef\u001b[39;00m \u001b[38;5;21mnew_fn\u001b[39m(\u001b[38;5;241m*\u001b[39margs, \u001b[38;5;241m*\u001b[39m\u001b[38;5;241m*\u001b[39mkwargs):\n\u001b[0;32m----> 3\u001b[0m     \u001b[43mget_ipython\u001b[49m\u001b[43m(\u001b[49m\u001b[43m)\u001b[49m\u001b[38;5;241;43m.\u001b[39;49m\u001b[43mrun_line_magic\u001b[49m\u001b[43m(\u001b[49m\u001b[38;5;124;43m'\u001b[39;49m\u001b[38;5;124;43mmatplotlib\u001b[39;49m\u001b[38;5;124;43m'\u001b[39;49m\u001b[43m,\u001b[49m\u001b[43m \u001b[49m\u001b[38;5;124;43m'\u001b[39;49m\u001b[38;5;124;43mqt5\u001b[39;49m\u001b[38;5;124;43m'\u001b[39;49m\u001b[43m)\u001b[49m\n\u001b[1;32m      4\u001b[0m     output \u001b[38;5;241m=\u001b[39m fn(\u001b[38;5;241m*\u001b[39margs, \u001b[38;5;241m*\u001b[39m\u001b[38;5;241m*\u001b[39mkwargs)\n\u001b[1;32m      5\u001b[0m     get_ipython()\u001b[38;5;241m.\u001b[39mrun_line_magic(\u001b[38;5;124m'\u001b[39m\u001b[38;5;124mmatplotlib\u001b[39m\u001b[38;5;124m'\u001b[39m, \u001b[38;5;124m'\u001b[39m\u001b[38;5;124minline\u001b[39m\u001b[38;5;124m'\u001b[39m)\n",
      "File \u001b[0;32m~/anaconda3/envs/cs180/lib/python3.10/site-packages/IPython/core/interactiveshell.py:2432\u001b[0m, in \u001b[0;36mInteractiveShell.run_line_magic\u001b[0;34m(self, magic_name, line, _stack_depth)\u001b[0m\n\u001b[1;32m   2430\u001b[0m     kwargs[\u001b[38;5;124m'\u001b[39m\u001b[38;5;124mlocal_ns\u001b[39m\u001b[38;5;124m'\u001b[39m] \u001b[38;5;241m=\u001b[39m \u001b[38;5;28mself\u001b[39m\u001b[38;5;241m.\u001b[39mget_local_scope(stack_depth)\n\u001b[1;32m   2431\u001b[0m \u001b[38;5;28;01mwith\u001b[39;00m \u001b[38;5;28mself\u001b[39m\u001b[38;5;241m.\u001b[39mbuiltin_trap:\n\u001b[0;32m-> 2432\u001b[0m     result \u001b[38;5;241m=\u001b[39m \u001b[43mfn\u001b[49m\u001b[43m(\u001b[49m\u001b[38;5;241;43m*\u001b[39;49m\u001b[43margs\u001b[49m\u001b[43m,\u001b[49m\u001b[43m \u001b[49m\u001b[38;5;241;43m*\u001b[39;49m\u001b[38;5;241;43m*\u001b[39;49m\u001b[43mkwargs\u001b[49m\u001b[43m)\u001b[49m\n\u001b[1;32m   2434\u001b[0m \u001b[38;5;66;03m# The code below prevents the output from being displayed\u001b[39;00m\n\u001b[1;32m   2435\u001b[0m \u001b[38;5;66;03m# when using magics with decorator @output_can_be_silenced\u001b[39;00m\n\u001b[1;32m   2436\u001b[0m \u001b[38;5;66;03m# when the last Python token in the expression is a ';'.\u001b[39;00m\n\u001b[1;32m   2437\u001b[0m \u001b[38;5;28;01mif\u001b[39;00m \u001b[38;5;28mgetattr\u001b[39m(fn, magic\u001b[38;5;241m.\u001b[39mMAGIC_OUTPUT_CAN_BE_SILENCED, \u001b[38;5;28;01mFalse\u001b[39;00m):\n",
      "File \u001b[0;32m~/anaconda3/envs/cs180/lib/python3.10/site-packages/IPython/core/magics/pylab.py:99\u001b[0m, in \u001b[0;36mPylabMagics.matplotlib\u001b[0;34m(self, line)\u001b[0m\n\u001b[1;32m     97\u001b[0m     \u001b[38;5;28mprint\u001b[39m(\u001b[38;5;124m\"\u001b[39m\u001b[38;5;124mAvailable matplotlib backends: \u001b[39m\u001b[38;5;132;01m%s\u001b[39;00m\u001b[38;5;124m\"\u001b[39m \u001b[38;5;241m%\u001b[39m backends_list)\n\u001b[1;32m     98\u001b[0m \u001b[38;5;28;01melse\u001b[39;00m:\n\u001b[0;32m---> 99\u001b[0m     gui, backend \u001b[38;5;241m=\u001b[39m \u001b[38;5;28;43mself\u001b[39;49m\u001b[38;5;241;43m.\u001b[39;49m\u001b[43mshell\u001b[49m\u001b[38;5;241;43m.\u001b[39;49m\u001b[43menable_matplotlib\u001b[49m\u001b[43m(\u001b[49m\u001b[43margs\u001b[49m\u001b[38;5;241;43m.\u001b[39;49m\u001b[43mgui\u001b[49m\u001b[38;5;241;43m.\u001b[39;49m\u001b[43mlower\u001b[49m\u001b[43m(\u001b[49m\u001b[43m)\u001b[49m\u001b[43m \u001b[49m\u001b[38;5;28;43;01mif\u001b[39;49;00m\u001b[43m \u001b[49m\u001b[38;5;28;43misinstance\u001b[39;49m\u001b[43m(\u001b[49m\u001b[43margs\u001b[49m\u001b[38;5;241;43m.\u001b[39;49m\u001b[43mgui\u001b[49m\u001b[43m,\u001b[49m\u001b[43m \u001b[49m\u001b[38;5;28;43mstr\u001b[39;49m\u001b[43m)\u001b[49m\u001b[43m \u001b[49m\u001b[38;5;28;43;01melse\u001b[39;49;00m\u001b[43m \u001b[49m\u001b[43margs\u001b[49m\u001b[38;5;241;43m.\u001b[39;49m\u001b[43mgui\u001b[49m\u001b[43m)\u001b[49m\n\u001b[1;32m    100\u001b[0m     \u001b[38;5;28mself\u001b[39m\u001b[38;5;241m.\u001b[39m_show_matplotlib_backend(args\u001b[38;5;241m.\u001b[39mgui, backend)\n",
      "File \u001b[0;32m~/anaconda3/envs/cs180/lib/python3.10/site-packages/IPython/core/interactiveshell.py:3626\u001b[0m, in \u001b[0;36mInteractiveShell.enable_matplotlib\u001b[0;34m(self, gui)\u001b[0m\n\u001b[1;32m   3622\u001b[0m configure_inline_support(\u001b[38;5;28mself\u001b[39m, backend)\n\u001b[1;32m   3624\u001b[0m \u001b[38;5;66;03m# Now we must activate the gui pylab wants to use, and fix %run to take\u001b[39;00m\n\u001b[1;32m   3625\u001b[0m \u001b[38;5;66;03m# plot updates into account\u001b[39;00m\n\u001b[0;32m-> 3626\u001b[0m \u001b[38;5;28;43mself\u001b[39;49m\u001b[38;5;241;43m.\u001b[39;49m\u001b[43menable_gui\u001b[49m\u001b[43m(\u001b[49m\u001b[43mgui\u001b[49m\u001b[43m)\u001b[49m\n\u001b[1;32m   3627\u001b[0m \u001b[38;5;28mself\u001b[39m\u001b[38;5;241m.\u001b[39mmagics_manager\u001b[38;5;241m.\u001b[39mregistry[\u001b[38;5;124m'\u001b[39m\u001b[38;5;124mExecutionMagics\u001b[39m\u001b[38;5;124m'\u001b[39m]\u001b[38;5;241m.\u001b[39mdefault_runner \u001b[38;5;241m=\u001b[39m \\\n\u001b[1;32m   3628\u001b[0m     pt\u001b[38;5;241m.\u001b[39mmpl_runner(\u001b[38;5;28mself\u001b[39m\u001b[38;5;241m.\u001b[39msafe_execfile)\n\u001b[1;32m   3630\u001b[0m \u001b[38;5;28;01mreturn\u001b[39;00m gui, backend\n",
      "File \u001b[0;32m~/anaconda3/envs/cs180/lib/python3.10/site-packages/ipykernel/zmqshell.py:487\u001b[0m, in \u001b[0;36mZMQInteractiveShell.enable_gui\u001b[0;34m(self, gui)\u001b[0m\n\u001b[1;32m    484\u001b[0m \u001b[38;5;28;01mfrom\u001b[39;00m \u001b[38;5;21;01m.\u001b[39;00m\u001b[38;5;21;01meventloops\u001b[39;00m \u001b[38;5;28;01mimport\u001b[39;00m enable_gui \u001b[38;5;28;01mas\u001b[39;00m real_enable_gui\n\u001b[1;32m    486\u001b[0m \u001b[38;5;28;01mtry\u001b[39;00m:\n\u001b[0;32m--> 487\u001b[0m     \u001b[43mreal_enable_gui\u001b[49m\u001b[43m(\u001b[49m\u001b[43mgui\u001b[49m\u001b[43m)\u001b[49m\n\u001b[1;32m    488\u001b[0m     \u001b[38;5;28mself\u001b[39m\u001b[38;5;241m.\u001b[39mactive_eventloop \u001b[38;5;241m=\u001b[39m gui\n\u001b[1;32m    489\u001b[0m \u001b[38;5;28;01mexcept\u001b[39;00m \u001b[38;5;167;01mValueError\u001b[39;00m \u001b[38;5;28;01mas\u001b[39;00m e:\n",
      "File \u001b[0;32m~/anaconda3/envs/cs180/lib/python3.10/site-packages/ipykernel/eventloops.py:571\u001b[0m, in \u001b[0;36menable_gui\u001b[0;34m(gui, kernel)\u001b[0m\n\u001b[1;32m    569\u001b[0m \u001b[38;5;28;01mif\u001b[39;00m loop \u001b[38;5;129;01mand\u001b[39;00m kernel\u001b[38;5;241m.\u001b[39meventloop \u001b[38;5;129;01mis\u001b[39;00m \u001b[38;5;129;01mnot\u001b[39;00m \u001b[38;5;28;01mNone\u001b[39;00m \u001b[38;5;129;01mand\u001b[39;00m kernel\u001b[38;5;241m.\u001b[39meventloop \u001b[38;5;129;01mis\u001b[39;00m \u001b[38;5;129;01mnot\u001b[39;00m loop:\n\u001b[1;32m    570\u001b[0m     msg \u001b[38;5;241m=\u001b[39m \u001b[38;5;124m\"\u001b[39m\u001b[38;5;124mCannot activate multiple GUI eventloops\u001b[39m\u001b[38;5;124m\"\u001b[39m\n\u001b[0;32m--> 571\u001b[0m     \u001b[38;5;28;01mraise\u001b[39;00m \u001b[38;5;167;01mRuntimeError\u001b[39;00m(msg)\n\u001b[1;32m    572\u001b[0m kernel\u001b[38;5;241m.\u001b[39meventloop \u001b[38;5;241m=\u001b[39m loop\n",
      "\u001b[0;31mRuntimeError\u001b[0m: Cannot activate multiple GUI eventloops"
     ]
    }
   ],
   "source": [
    "get_mask(source_im)"
   ]
  },
  {
   "cell_type": "code",
   "execution_count": null,
   "id": "4d245397-3464-47fd-83be-b4677c76da69",
   "metadata": {},
   "outputs": [],
   "source": []
  }
 ],
 "metadata": {
  "kernelspec": {
   "display_name": "Python 3 (ipykernel)",
   "language": "python",
   "name": "python3"
  },
  "language_info": {
   "codemirror_mode": {
    "name": "ipython",
    "version": 3
   },
   "file_extension": ".py",
   "mimetype": "text/x-python",
   "name": "python",
   "nbconvert_exporter": "python",
   "pygments_lexer": "ipython3",
   "version": "3.10.13"
  }
 },
 "nbformat": 4,
 "nbformat_minor": 5
}
